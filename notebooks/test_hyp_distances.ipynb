{
 "cells": [
  {
   "cell_type": "code",
   "execution_count": 100,
   "id": "3689e35b",
   "metadata": {},
   "outputs": [],
   "source": [
    "import numpy as np\n",
    "from sklearn.neighbors import DistanceMetric\n",
    "import torch"
   ]
  },
  {
   "cell_type": "code",
   "execution_count": 101,
   "id": "caa1b813",
   "metadata": {},
   "outputs": [],
   "source": [
    "dist = DistanceMetric.get_metric('euclidean')"
   ]
  },
  {
   "cell_type": "code",
   "execution_count": 102,
   "id": "c36c57a9",
   "metadata": {},
   "outputs": [],
   "source": [
    "X = [[0, 1, 2],\n",
    "      [3, 4, 5]]"
   ]
  },
  {
   "cell_type": "code",
   "execution_count": 103,
   "id": "1b1126e4",
   "metadata": {},
   "outputs": [
    {
     "data": {
      "text/plain": [
       "array([[0.        , 5.19615242],\n",
       "       [5.19615242, 0.        ]])"
      ]
     },
     "execution_count": 103,
     "metadata": {},
     "output_type": "execute_result"
    }
   ],
   "source": [
    "dist.pairwise(X)\n"
   ]
  },
  {
   "cell_type": "code",
   "execution_count": 104,
   "id": "fb6464e1",
   "metadata": {},
   "outputs": [],
   "source": [
    "a = np.random.rand(2)\n",
    "b = np.random.rand(2)"
   ]
  },
  {
   "cell_type": "code",
   "execution_count": 105,
   "id": "96de2a45",
   "metadata": {},
   "outputs": [
    {
     "data": {
      "text/plain": [
       "0.5742599056445307"
      ]
     },
     "execution_count": 105,
     "metadata": {},
     "output_type": "execute_result"
    }
   ],
   "source": [
    "2 * np.arctanh(np.linalg.norm(b))"
   ]
  },
  {
   "cell_type": "code",
   "execution_count": 76,
   "id": "92714b3c",
   "metadata": {},
   "outputs": [],
   "source": [
    "def hyp_dist(u, v):\n",
    "    squnorm = np.clip(np.sum(u * u, axis=-1), 0, 1 - 1e-7)\n",
    "    sqvnorm = np.clip(np.sum(v * v, axis=-1), 0, 1 - 1e-7)\n",
    "    sqdist = np.sum(((u - v) ** 2), axis=-1)\n",
    "    x = sqdist / ((1 - squnorm) * (1 - sqvnorm)) * 2 + 1\n",
    "    # arcosh\n",
    "    z = np.sqrt((x ** 2) - 1)\n",
    "    return np.log(x + z)\n",
    "\n",
    "\n",
    "def hyp_dist2(u, v):\n",
    "    squnorm = np.clip(np.sum(u * u, axis=-1), 0, 1 - 1e-7)\n",
    "    sqvnorm = np.clip(np.sum(v * v, axis=-1), 0, 1 - 1e-7)\n",
    "    sqdist = np.sum(((u - v) ** 2), axis=-1)\n",
    "    divisor = np.maximum(1 - squnorm, MACHINE_EPSILON) * np.maximum(1 - sqvnorm, MACHINE_EPSILON) \n",
    "    x = 1 + 2 * sqdist / divisor\n",
    "    return np.arccosh(x)"
   ]
  },
  {
   "cell_type": "code",
   "execution_count": 77,
   "id": "c914de14",
   "metadata": {},
   "outputs": [
    {
     "name": "stdout",
     "output_type": "stream",
     "text": [
      "2.972437610314813\n",
      "2.972437610314813\n"
     ]
    }
   ],
   "source": [
    "print(hyp_dist(0,b))\n",
    "print(hyp_dist2(0,b))"
   ]
  },
  {
   "cell_type": "code",
   "execution_count": 63,
   "id": "09caaa6c",
   "metadata": {},
   "outputs": [],
   "source": [
    "hd = DistanceMetric.get_metric(hyp_dist)"
   ]
  },
  {
   "cell_type": "code",
   "execution_count": 64,
   "id": "1ddeffac",
   "metadata": {},
   "outputs": [
    {
     "data": {
      "text/plain": [
       "array([[ 0.        , 36.91832253],\n",
       "       [36.91832253,  0.        ]])"
      ]
     },
     "execution_count": 64,
     "metadata": {},
     "output_type": "execute_result"
    }
   ],
   "source": [
    "hd.pairwise(X)"
   ]
  },
  {
   "cell_type": "code",
   "execution_count": 47,
   "id": "08a6b6dd",
   "metadata": {},
   "outputs": [],
   "source": [
    "import pickle\n",
    "\n",
    "with open(\"../data/pos_encodings/Citeseer_HYPS16.pkl\", \"rb\") as f:\n",
    "    emb = pickle.load(f)\n",
    "    "
   ]
  },
  {
   "cell_type": "code",
   "execution_count": 49,
   "id": "92b33d2b",
   "metadata": {},
   "outputs": [
    {
     "data": {
      "text/plain": [
       "tensor(-0.4879)"
      ]
     },
     "execution_count": 49,
     "metadata": {},
     "output_type": "execute_result"
    }
   ],
   "source": [
    "emb.min()"
   ]
  },
  {
   "cell_type": "code",
   "execution_count": 50,
   "id": "e6648c99",
   "metadata": {},
   "outputs": [
    {
     "data": {
      "text/plain": [
       "tensor(0.4783)"
      ]
     },
     "execution_count": 50,
     "metadata": {},
     "output_type": "execute_result"
    }
   ],
   "source": [
    "emb.max()"
   ]
  },
  {
   "cell_type": "code",
   "execution_count": 51,
   "id": "9ee423e6",
   "metadata": {},
   "outputs": [
    {
     "data": {
      "text/plain": [
       "tensor([-0.0154,  0.1136, -0.0237, -0.2436, -0.1210, -0.0696, -0.0670,  0.1701,\n",
       "         0.2113, -0.0023,  0.0801,  0.1469,  0.2992, -0.0951,  0.0516,  0.1117])"
      ]
     },
     "execution_count": 51,
     "metadata": {},
     "output_type": "execute_result"
    }
   ],
   "source": [
    "emb[0]"
   ]
  },
  {
   "cell_type": "code",
   "execution_count": 54,
   "id": "81b3b61e",
   "metadata": {},
   "outputs": [
    {
     "data": {
      "text/plain": [
       "tensor([[-0.0154,  0.1136, -0.0237,  ..., -0.0951,  0.0516,  0.1117],\n",
       "        [-0.3709,  0.1344,  0.0794,  ..., -0.0049, -0.0314,  0.0347],\n",
       "        [ 0.1237, -0.0633,  0.2206,  ..., -0.0641, -0.2726, -0.1873],\n",
       "        ...,\n",
       "        [ 0.1887, -0.0788, -0.0356,  ...,  0.0811,  0.2925, -0.3067],\n",
       "        [-0.1772, -0.0112, -0.2764,  ...,  0.2443,  0.1043,  0.2552],\n",
       "        [-0.1186, -0.0708, -0.0788,  ...,  0.0155,  0.2685, -0.0450]])"
      ]
     },
     "execution_count": 54,
     "metadata": {},
     "output_type": "execute_result"
    }
   ],
   "source": [
    "emb"
   ]
  },
  {
   "cell_type": "code",
   "execution_count": 68,
   "id": "1d475da9",
   "metadata": {},
   "outputs": [],
   "source": [
    "distances = hd.pairwise(emb.detach().numpy())"
   ]
  },
  {
   "cell_type": "code",
   "execution_count": 69,
   "id": "a395b92e",
   "metadata": {},
   "outputs": [
    {
     "data": {
      "text/plain": [
       "(2120, 2120)"
      ]
     },
     "execution_count": 69,
     "metadata": {},
     "output_type": "execute_result"
    }
   ],
   "source": [
    "distances.shape"
   ]
  },
  {
   "cell_type": "code",
   "execution_count": 70,
   "id": "01cae6f6",
   "metadata": {},
   "outputs": [
    {
     "data": {
      "text/plain": [
       "3.089587562621557"
      ]
     },
     "execution_count": 70,
     "metadata": {},
     "output_type": "execute_result"
    }
   ],
   "source": [
    "distances.max()"
   ]
  },
  {
   "cell_type": "code",
   "execution_count": 71,
   "id": "e4b19e3b",
   "metadata": {},
   "outputs": [
    {
     "data": {
      "text/plain": [
       "0.0"
      ]
     },
     "execution_count": 71,
     "metadata": {},
     "output_type": "execute_result"
    }
   ],
   "source": [
    "distances.min()"
   ]
  },
  {
   "cell_type": "code",
   "execution_count": 63,
   "id": "eadb2361",
   "metadata": {},
   "outputs": [
    {
     "data": {
      "text/plain": [
       "(array([   7428,   12572,   23236,   49802,  170082,  694804, 1694556,\n",
       "        1474770,  357550,    9600]),\n",
       " array([0.        , 0.12696899, 0.25393797, 0.38090696, 0.50787594,\n",
       "        0.63484493, 0.76181391, 0.8887829 , 1.01575188, 1.14272087,\n",
       "        1.26968986]))"
      ]
     },
     "execution_count": 63,
     "metadata": {},
     "output_type": "execute_result"
    }
   ],
   "source": [
    "np.histogram(distances)"
   ]
  },
  {
   "cell_type": "code",
   "execution_count": 72,
   "id": "97edb355",
   "metadata": {},
   "outputs": [
    {
     "data": {
      "text/plain": [
       "(array([[3.000e+00, 2.000e+00, 4.000e+00, ..., 8.400e+02, 4.900e+01,\n",
       "         0.000e+00],\n",
       "        [3.000e+00, 2.000e+00, 2.000e+00, ..., 8.990e+02, 5.850e+02,\n",
       "         7.000e+00],\n",
       "        [2.000e+00, 3.000e+00, 1.000e+00, ..., 1.120e+03, 2.610e+02,\n",
       "         0.000e+00],\n",
       "        ...,\n",
       "        [3.000e+00, 2.000e+00, 9.000e+00, ..., 9.410e+02, 5.120e+02,\n",
       "         1.400e+01],\n",
       "        [1.000e+00, 0.000e+00, 2.000e+00, ..., 9.800e+02, 2.120e+02,\n",
       "         0.000e+00],\n",
       "        [3.000e+00, 0.000e+00, 0.000e+00, ..., 1.043e+03, 5.340e+02,\n",
       "         1.700e+01]]),\n",
       " array([0.        , 0.30895876, 0.61791751, 0.92687627, 1.23583503,\n",
       "        1.54479378, 1.85375254, 2.16271129, 2.47167005, 2.78062881,\n",
       "        3.08958756]),\n",
       " <a list of 2120 BarContainer objects>)"
      ]
     },
     "execution_count": 72,
     "metadata": {},
     "output_type": "execute_result"
    },
    {
     "data": {
      "image/png": "[encoded data removed]",
      "text/plain": [
       "<Figure size 432x288 with 1 Axes>"
      ]
     },
     "metadata": {
      "needs_background": "light"
     },
     "output_type": "display_data"
    }
   ],
   "source": [
    "import matplotlib.pyplot as plt\n",
    "\n",
    "plt.hist(distances)"
   ]
  },
  {
   "cell_type": "code",
   "execution_count": 74,
   "id": "1fb89a15",
   "metadata": {},
   "outputs": [
    {
     "data": {
      "text/plain": [
       "0.0"
      ]
     },
     "execution_count": 74,
     "metadata": {},
     "output_type": "execute_result"
    }
   ],
   "source": [
    "np.sum(distances - distances.T)"
   ]
  },
  {
   "cell_type": "code",
   "execution_count": 81,
   "id": "8f08274b",
   "metadata": {},
   "outputs": [
    {
     "data": {
      "text/plain": [
       "array([77, 16, 13, ..., 81, 38,  4])"
      ]
     },
     "execution_count": 81,
     "metadata": {},
     "output_type": "execute_result"
    }
   ],
   "source": [
    "thresh = 1.5\n",
    "\n",
    "np.sum(distances<thresh, axis=1)"
   ]
  },
  {
   "cell_type": "code",
   "execution_count": 84,
   "id": "0c73042c",
   "metadata": {},
   "outputs": [
    {
     "data": {
      "text/plain": [
       "(array([1.466e+03, 2.970e+02, 9.900e+01, 6.900e+01, 7.800e+01, 7.200e+01,\n",
       "        2.300e+01, 1.100e+01, 4.000e+00, 1.000e+00]),\n",
       " array([  1.,  50.,  99., 148., 197., 246., 295., 344., 393., 442., 491.]),\n",
       " <BarContainer object of 10 artists>)"
      ]
     },
     "execution_count": 84,
     "metadata": {},
     "output_type": "execute_result"
    },
    {
     "data": {
      "image/png": "[encoded data removed]",
      "text/plain": [
       "<Figure size 432x288 with 1 Axes>"
      ]
     },
     "metadata": {
      "needs_background": "light"
     },
     "output_type": "display_data"
    }
   ],
   "source": [
    "plt.hist(np.sum(distances<thresh, axis=1))"
   ]
  },
  {
   "cell_type": "code",
   "execution_count": 85,
   "id": "18a58b52",
   "metadata": {},
   "outputs": [
    {
     "data": {
      "text/plain": [
       "122108"
      ]
     },
     "execution_count": 85,
     "metadata": {},
     "output_type": "execute_result"
    }
   ],
   "source": [
    "np.sum(distances<thresh)"
   ]
  },
  {
   "cell_type": "code",
   "execution_count": 65,
   "id": "18457dd6",
   "metadata": {},
   "outputs": [],
   "source": [
    "def hyp_dist(u, v):\n",
    "    squnorm = np.clip(np.sum(u * u, axis=-1), 0, 1 - 1e-7)\n",
    "    sqvnorm = np.clip(np.sum(v * v, axis=-1), 0, 1 - 1e-7)\n",
    "    sqdist = np.sum(((u - v) ** 2), axis=-1)\n",
    "    x = sqdist / ((1 - squnorm) * (1 - sqvnorm)) * 2 + 1\n",
    "    return np.arccosh(x)\n",
    "#     # arcosh\n",
    "#     z = np.sqrt((x ** 2) - 1)\n",
    "#     return np.log(x + z)\n",
    "\n",
    "hd = DistanceMetric.get_metric(hyp_dist)"
   ]
  },
  {
   "cell_type": "code",
   "execution_count": 91,
   "id": "4dea99c7",
   "metadata": {},
   "outputs": [
    {
     "name": "stdout",
     "output_type": "stream",
     "text": [
      "Distances calculated in 250.83 sec\n",
      "Distances calculated in 249.26 sec\n",
      "Distances calculated in 250.38 sec\n",
      "Distances calculated in 250.99 sec\n"
     ]
    }
   ],
   "source": [
    "import time\n",
    "\n",
    "dataset = \"Cora\"\n",
    "\n",
    "for emb_dim in [16, 8, 4, 2]:\n",
    "\n",
    "    with open(f\"../data/pos_encodings/{dataset}_HYPS{emb_dim:02d}.pkl\", \"rb\") as f:\n",
    "        emb = pickle.load(f)\n",
    "    \n",
    "    t = time.time()\n",
    "    distances = hd.pairwise(emb.detach().numpy())\n",
    "    print(\"Distances calculated in %.2f sec\" % (time.time()-t))\n",
    "\n",
    "    with open(f\"../data/pos_encodings/{dataset}_HYPS{emb_dim:02d}_dists.npy\", \"wb\") as f:\n",
    "        np.save(f, distances)        \n",
    "\n",
    "    with open(f\"../data/pos_encodings/{dataset}_HYPS{emb_dim:02d}_dists.pkl\", \"wb\") as f:\n",
    "        pickle.dump(distances, f)\n"
   ]
  },
  {
   "cell_type": "code",
   "execution_count": null,
   "id": "dafb5c54",
   "metadata": {},
   "outputs": [],
   "source": [
    "'''\n",
    "Citeseer:\n",
    "Distances calculated in 177.51 sec\n",
    "Distances calculated in 176.29 sec\n",
    "Distances calculated in 179.09 sec\n",
    "Distances calculated in 182.87 sec\n",
    "\n",
    "Cora:\n",
    "Distances calculated in 250.83 sec\n",
    "Distances calculated in 249.26 sec\n",
    "Distances calculated in 250.38 sec\n",
    "\n",
    "'''"
   ]
  },
  {
   "cell_type": "code",
   "execution_count": 66,
   "id": "4ca3a13f",
   "metadata": {},
   "outputs": [],
   "source": [
    "# import time\n",
    "\n",
    "# dataset = \"Photo\"\n",
    "\n",
    "# for emb_dim in [16, 8, 4, 2]:\n",
    "\n",
    "#     with open(f\"../data/pos_encodings/{dataset}_HYPS{emb_dim:02d}.pkl\", \"rb\") as f:\n",
    "#         emb = pickle.load(f)\n",
    "    \n",
    "#     t = time.time()\n",
    "#     distances = hd.pairwise(emb.detach().numpy())\n",
    "#     print(\"Distances calculated in %.2f sec\" % (time.time()-t))\n",
    "\n",
    "#     with open(f\"../data/pos_encodings/{dataset}_HYPS{emb_dim:02d}_dists.npy\", \"wb\") as f:\n",
    "#         np.save(f, distances)        \n",
    "\n",
    "#     with open(f\"../data/pos_encodings/{dataset}_HYPS{emb_dim:02d}_dists.pkl\", \"wb\") as f:\n",
    "#         pickle.dump(distances, f)\n"
   ]
  },
  {
   "cell_type": "code",
   "execution_count": 67,
   "id": "4fe91645",
   "metadata": {},
   "outputs": [],
   "source": [
    "import scipy\n",
    "import pickle"
   ]
  },
  {
   "cell_type": "code",
   "execution_count": 68,
   "id": "ad55f463",
   "metadata": {},
   "outputs": [
    {
     "data": {
      "text/plain": [
       "array([[ 0.        , 36.91832253],\n",
       "       [36.91832253,  0.        ]])"
      ]
     },
     "execution_count": 68,
     "metadata": {},
     "output_type": "execute_result"
    }
   ],
   "source": [
    "scipy.spatial.distance.squareform(scipy.spatial.distance.pdist(X, hyp_dist))"
   ]
  },
  {
   "cell_type": "code",
   "execution_count": 91,
   "id": "f3cad412",
   "metadata": {},
   "outputs": [
    {
     "name": "stdout",
     "output_type": "stream",
     "text": [
      "0.30\n"
     ]
    }
   ],
   "source": [
    "### code taken from https://gist.github.com/danielvarga/1f1157085c4d62c4c1e3d282d1e765d3\n",
    "MACHINE_EPSILON = np.finfo(np.double).eps\n",
    "\n",
    "def hyperbolize(x, n):\n",
    "    m = scipy.spatial.distance.squareform(n)\n",
    "    qsqr = np.sum(x ** 2, axis=1)\n",
    "    divisor = np.maximum(1 - qsqr[:, np.newaxis], MACHINE_EPSILON) * np.maximum(1 - qsqr[np.newaxis, :], MACHINE_EPSILON)\n",
    "    m = np.arccosh(1 + 2 * m / divisor ) #** 2\n",
    "    return m #scipy.spatial.distance.squareform(m, checks=False)\n",
    "\n",
    "t = time.time()\n",
    "sqdist = scipy.spatial.distance.pdist(emb.detach().numpy(), \"sqeuclidean\")\n",
    "distances_ = hyperbolize(emb.detach().numpy(), sqdist)\n",
    "print(\"%.2f\" %(time.time()-t))"
   ]
  },
  {
   "cell_type": "code",
   "execution_count": 93,
   "id": "53fb605d",
   "metadata": {},
   "outputs": [
    {
     "data": {
      "text/plain": [
       "0.00010990619204749038"
      ]
     },
     "execution_count": 93,
     "metadata": {},
     "output_type": "execute_result"
    }
   ],
   "source": [
    "np.linalg.norm(distances-distances_)"
   ]
  },
  {
   "cell_type": "code",
   "execution_count": 99,
   "id": "7f662a6a",
   "metadata": {},
   "outputs": [
    {
     "name": "stdout",
     "output_type": "stream",
     "text": [
      "Distances calculated in 27.41 sec\n",
      "Distances calculated in 26.44 sec\n",
      "Distances calculated in 25.76 sec\n",
      "Distances calculated in 24.18 sec\n"
     ]
    }
   ],
   "source": [
    "import time\n",
    "\n",
    "dataset = \"Pubmed\"\n",
    "\n",
    "for emb_dim in [16, 8, 4, 2]:\n",
    "\n",
    "    with open(f\"../data/pos_encodings/{dataset}_HYPS{emb_dim:02d}.pkl\", \"rb\") as f:\n",
    "        emb = pickle.load(f)\n",
    "    \n",
    "    t = time.time()\n",
    "    sqdist = scipy.spatial.distance.pdist(emb.detach().numpy(), \"sqeuclidean\")\n",
    "    distances = hyperbolize(emb.detach().numpy(), sqdist)\n",
    "    print(\"Distances calculated in %.2f sec\" % (time.time()-t))\n",
    "\n",
    "#     with open(f\"../data/pos_encodings/{dataset}_HYPS{emb_dim:02d}_dists.npy\", \"wb\") as f:\n",
    "#         np.save(f, distances)        \n",
    "    with open(f\"../data/pos_encodings/{dataset}_HYPS{emb_dim:02d}_dists.pkl\", \"wb\") as f:\n",
    "        pickle.dump(distances, f)\n"
   ]
  },
  {
   "cell_type": "code",
   "execution_count": 113,
   "id": "a8e68da4",
   "metadata": {},
   "outputs": [],
   "source": [
    "dataset = \"Citeseer\"\n",
    "emb_dim = 16\n",
    "with open(f\"../data/pos_encodings/{dataset}_RND{emb_dim:02d}.pkl\", \"rb\") as f:\n",
    "    emb = pickle.load(f)"
   ]
  },
  {
   "cell_type": "code",
   "execution_count": 114,
   "id": "1aa9e213",
   "metadata": {},
   "outputs": [],
   "source": [
    "emb = emb * .49"
   ]
  },
  {
   "cell_type": "code",
   "execution_count": 116,
   "id": "b9addcb6",
   "metadata": {},
   "outputs": [
    {
     "data": {
      "text/plain": [
       "tensor([[-0.2390, -0.3815, -0.4602,  ...,  0.1128, -0.2359, -0.3657],\n",
       "        [ 0.3495, -0.2323,  0.1441,  ..., -0.3768,  0.3227,  0.4888],\n",
       "        [-0.2876,  0.3670, -0.2023,  ..., -0.0987, -0.0723, -0.2664],\n",
       "        ...,\n",
       "        [-0.2919, -0.1902,  0.0613,  ..., -0.2800,  0.0747,  0.4413],\n",
       "        [-0.0087,  0.3539,  0.1754,  ..., -0.4648,  0.3264,  0.0448],\n",
       "        [-0.1091, -0.4468, -0.3173,  ...,  0.1012, -0.4875,  0.3776]])"
      ]
     },
     "execution_count": 116,
     "metadata": {},
     "output_type": "execute_result"
    }
   ],
   "source": [
    "emb"
   ]
  },
  {
   "cell_type": "code",
   "execution_count": 132,
   "id": "1bab1cab",
   "metadata": {},
   "outputs": [],
   "source": [
    "sqdist = scipy.spatial.distance.pdist(emb.detach().numpy(), \"sqeuclidean\")"
   ]
  },
  {
   "cell_type": "code",
   "execution_count": 133,
   "id": "1fd4cb0a",
   "metadata": {},
   "outputs": [],
   "source": [
    "distances = hyperbolize(emb.detach().numpy(), sqdist)"
   ]
  },
  {
   "cell_type": "code",
   "execution_count": 134,
   "id": "fd6cbd62",
   "metadata": {},
   "outputs": [
    {
     "data": {
      "text/plain": [
       "0.0"
      ]
     },
     "execution_count": 134,
     "metadata": {},
     "output_type": "execute_result"
    }
   ],
   "source": [
    "np.sum(distances-distances.T)"
   ]
  },
  {
   "cell_type": "code",
   "execution_count": 135,
   "id": "dcc1adb1",
   "metadata": {},
   "outputs": [],
   "source": [
    "with open(f\"../data/pos_encodings/{dataset}_RND{emb_dim:02d}_dists.pkl\", \"wb\") as f:\n",
    "    pickle.dump(distances, f)"
   ]
  },
  {
   "cell_type": "code",
   "execution_count": 124,
   "id": "715b3beb",
   "metadata": {},
   "outputs": [],
   "source": [
    "dataset = \"Photo\"\n",
    "emb_dim = 16\n",
    "with open(f\"../data/pos_encodings/{dataset}_HYPS{emb_dim:02d}.pkl\", \"rb\") as f:\n",
    "    emb = pickle.load(f)"
   ]
  },
  {
   "cell_type": "code",
   "execution_count": 125,
   "id": "75355636",
   "metadata": {},
   "outputs": [
    {
     "data": {
      "text/plain": [
       "tensor([[ 0.0335, -0.0710,  0.0612,  ...,  0.3164,  0.0414, -0.0190],\n",
       "        [-0.2200,  0.2930, -0.1840,  ...,  0.0445, -0.0473,  0.0540],\n",
       "        [ 0.1681,  0.1126,  0.0082,  ...,  0.1166, -0.1998,  0.0319],\n",
       "        ...,\n",
       "        [-0.0771,  0.0603,  0.0312,  ..., -0.0999, -0.2962,  0.1865],\n",
       "        [-0.0178,  0.0230,  0.2101,  ..., -0.1163,  0.0043, -0.1062],\n",
       "        [ 0.0828, -0.3576,  0.1290,  ..., -0.0385,  0.1909, -0.0871]])"
      ]
     },
     "execution_count": 125,
     "metadata": {},
     "output_type": "execute_result"
    }
   ],
   "source": [
    "emb"
   ]
  },
  {
   "cell_type": "code",
   "execution_count": 127,
   "id": "20c44898",
   "metadata": {},
   "outputs": [],
   "source": [
    "emb = torch.rand(emb.shape)"
   ]
  },
  {
   "cell_type": "code",
   "execution_count": 130,
   "id": "ac072e00",
   "metadata": {},
   "outputs": [
    {
     "data": {
      "text/plain": [
       "tensor(1.0000)"
      ]
     },
     "execution_count": 130,
     "metadata": {},
     "output_type": "execute_result"
    }
   ],
   "source": [
    "emb.max()"
   ]
  },
  {
   "cell_type": "code",
   "execution_count": 131,
   "id": "2aff5ad9",
   "metadata": {},
   "outputs": [],
   "source": [
    "with open(f\"../data/pos_encodings/{dataset}_RND{emb_dim:02d}.pkl\", \"wb\") as f:\n",
    "    pickle.dump(emb, f)"
   ]
  },
  {
   "cell_type": "code",
   "execution_count": null,
   "id": "ec68b648",
   "metadata": {},
   "outputs": [],
   "source": []
  }
 ],
 "metadata": {
  "kernelspec": {
   "display_name": "grand",
   "language": "python",
   "name": "grand"
  },
  "language_info": {
   "codemirror_mode": {
    "name": "ipython",
    "version": 3
   },
   "file_extension": ".py",
   "mimetype": "text/x-python",
   "name": "python",
   "nbconvert_exporter": "python",
   "pygments_lexer": "ipython3",
   "version": "3.8.10"
  }
 },
 "nbformat": 4,
 "nbformat_minor": 5
}
