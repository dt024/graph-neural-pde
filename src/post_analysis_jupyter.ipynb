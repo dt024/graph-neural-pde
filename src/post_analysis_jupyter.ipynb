{
 "cells": [
  {
   "cell_type": "code",
   "execution_count": null,
   "metadata": {
    "collapsed": true
   },
   "outputs": [],
   "source": [
    "from post_analysis_image import plot_image_T, create_animation, plot_att_heat"
   ]
  },
  {
   "cell_type": "code",
   "execution_count": null,
   "outputs": [],
   "source": [
    "# https://stackoverflow.com/questions/55303216/pycharm-jupyter-notebook-wsl-jupyter-package-is-not-installed\n"
   ],
   "metadata": {
    "collapsed": false,
    "pycharm": {
     "name": "#%%\n"
    }
   }
  },
  {
   "cell_type": "code",
   "execution_count": null,
   "outputs": [],
   "source": [
    "  model_key = '20210114_195014'\n",
    "  directory = f\"../models/\"\n",
    "  for filename in os.listdir(directory):\n",
    "    print(filename)\n",
    "    if filename.startswith(model_key):\n",
    "      path = os.path.join(directory, filename)\n",
    "      print(path)\n",
    "      break\n",
    "  [_, _, data_name, blck, fct] = path.split(\"_\")\n",
    "\n",
    "  modelfolder = f\"{directory}{model_key}_{data_name}_{blck}_{fct}\"\n",
    "  modelpath = f\"{modelfolder}/model_{model_key}\"\n",
    "\n",
    "  df = pd.read_csv(f'{directory}models.csv')\n",
    "  optdf = df.loc[df['model_key'] == model_key]\n",
    "  # numeric = ['batch_size', 'train_size', 'test_size', 'Test Acc', 'alpha',\n",
    "  #            'hidden_dim', 'input_dropout', 'dropout',\n",
    "  #            'lr', 'decay', 'self_loop_weight', 'epoch', 'time',\n",
    "  #            'tol_scale', 'ode_blocks', 'dt_min', 'dt',\n",
    "  #            'leaky_relu_slope', 'attention_dropout', 'heads', 'attention_norm_idx', 'attention_dim',\n",
    "  #            'im_width', 'im_height', 'num_feature', 'num_class', 'im_chan', 'num_nodes']\n",
    "  # df[numeric] = df[numeric].apply(pd.to_numeric)\n",
    "  opt = optdf.to_dict('records')[0]\n",
    "\n",
    "  print(\"Loading Data\")\n",
    "  device = torch.device('cuda' if torch.cuda.is_available() else 'cpu')\n",
    "  data_train, data_test = load_data(opt)\n",
    "  print(\"Loading Data\")\n",
    "  data_train, data_test = load_data(opt)\n",
    "\n",
    "  print(\"creating GNN model\")\n",
    "  loader = DataLoader(data_train, batch_size=opt['batch_size'], shuffle=True)\n",
    "  for batch_idx, batch in enumerate(loader):\n",
    "      break\n",
    "  batch.to(device)\n",
    "  edge_index_gpu = batch.edge_index\n",
    "  edge_attr_gpu = batch.edge_attr\n",
    "  if edge_index_gpu is not None: edge_index_gpu.to(device)\n",
    "  if edge_attr_gpu is not None: edge_index_gpu.to(device)\n",
    "\n",
    "  model = GNN_image(opt, batch.num_features, batch.num_nodes, opt['num_class'], edge_index_gpu,\n",
    "                    batch.edge_attr, device).to(device)\n",
    "  model.eval()\n",
    "\n"
   ],
   "metadata": {
    "collapsed": false,
    "pycharm": {
     "name": "#%%\n"
    }
   }
  },
  {
   "cell_type": "code",
   "execution_count": null,
   "outputs": [],
   "source": [
    "\n"
   ],
   "metadata": {
    "collapsed": false,
    "pycharm": {
     "name": "#%%\n"
    }
   }
  }
 ],
 "metadata": {
  "kernelspec": {
   "display_name": "Python 3",
   "language": "python",
   "name": "python3"
  },
  "language_info": {
   "codemirror_mode": {
    "name": "ipython",
    "version": 2
   },
   "file_extension": ".py",
   "mimetype": "text/x-python",
   "name": "python",
   "nbconvert_exporter": "python",
   "pygments_lexer": "ipython2",
   "version": "2.7.6"
  }
 },
 "nbformat": 4,
 "nbformat_minor": 0
}